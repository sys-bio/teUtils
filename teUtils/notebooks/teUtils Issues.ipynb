{
 "cells": [
  {
   "cell_type": "code",
   "execution_count": 1,
   "metadata": {},
   "outputs": [],
   "source": [
    "from teUtils.model_fitter import ModelFitter\n",
    "\n",
    "model = \"\"\"\n",
    "# Reactions\n",
    "J1: S1 -> S2; k1*S1\n",
    "J2: S2 -> S3; k2*S2\n",
    "J3: S3 -> S4; k3*S3\n",
    "J4: S4 -> S5; k4*S4\n",
    "J5: S5 -> S6; k5*S5;\n",
    "# Species initializations\n",
    "S1 = 10;\n",
    "# Parameters:\n",
    "k1 = 1; k2 = 2; k3 = 3; k4 = 4; k5 = 5\n",
    "\"\"\"\n",
    "\n",
    "fitter = ModelFitter(model, \"tst_data.txt\", [\"k1\", \"k2\", \"k3\", \"k4\", \"k5\"])\n",
    "fitter.fitModel()"
   ]
  },
  {
   "cell_type": "code",
   "execution_count": 2,
   "metadata": {},
   "outputs": [
    {
     "ename": "AttributeError",
     "evalue": "'NoneType' object has no attribute 'colnames'",
     "output_type": "error",
     "traceback": [
      "\u001b[0;31m---------------------------------------------------------------\u001b[0m",
      "\u001b[0;31mAttributeError\u001b[0m                Traceback (most recent call last)",
      "\u001b[0;32m<ipython-input-2-8fcdf564c28c>\u001b[0m in \u001b[0;36m<module>\u001b[0;34m\u001b[0m\n\u001b[0;32m----> 1\u001b[0;31m \u001b[0mfitter\u001b[0m\u001b[0;34m.\u001b[0m\u001b[0mplotFit\u001b[0m\u001b[0;34m(\u001b[0m\u001b[0;34m)\u001b[0m\u001b[0;34m\u001b[0m\u001b[0m\n\u001b[0m",
      "\u001b[0;32m~/teUtils/teUtils/teUtils/model_fitter.py\u001b[0m in \u001b[0;36mplotFit\u001b[0;34m(self, **kwargs)\u001b[0m\n\u001b[1;32m    244\u001b[0m         \u001b[0moptions\u001b[0m\u001b[0;34m.\u001b[0m\u001b[0mmarker2\u001b[0m \u001b[0;34m=\u001b[0m \u001b[0;34m\"o\"\u001b[0m\u001b[0;34m\u001b[0m\u001b[0m\n\u001b[1;32m    245\u001b[0m         plotter.plotTimeSingle(self.fitted_ts, timeseries2=self.observed_ts,\n\u001b[0;32m--> 246\u001b[0;31m               options=options, **kwargs)\n\u001b[0m",
      "\u001b[0;32m~/teUtils/teUtils/teUtils/timeseries_plotter.py\u001b[0m in \u001b[0;36mplotTimeSingle\u001b[0;34m(self, timeseries1, num_row, num_col, columns, timeseries2, options)\u001b[0m\n\u001b[1;32m    142\u001b[0m         \"\"\"\n\u001b[1;32m    143\u001b[0m         \u001b[0;32mif\u001b[0m \u001b[0mcolumns\u001b[0m \u001b[0;32mis\u001b[0m \u001b[0;32mNone\u001b[0m\u001b[0;34m:\u001b[0m\u001b[0;34m\u001b[0m\u001b[0m\n\u001b[0;32m--> 144\u001b[0;31m             \u001b[0mcolumns\u001b[0m \u001b[0;34m=\u001b[0m \u001b[0mtimeseries1\u001b[0m\u001b[0;34m.\u001b[0m\u001b[0mcolnames\u001b[0m\u001b[0;34m\u001b[0m\u001b[0m\n\u001b[0m\u001b[1;32m    145\u001b[0m         positioner = _Positioner(len(columns), num_row=num_row,\n\u001b[1;32m    146\u001b[0m             num_col=num_col)\n",
      "\u001b[0;31mAttributeError\u001b[0m: 'NoneType' object has no attribute 'colnames'"
     ]
    }
   ],
   "source": [
    "fitter.plotFit()"
   ]
  }
 ],
 "metadata": {
  "kernelspec": {
   "display_name": "Python 3",
   "language": "python",
   "name": "python3"
  },
  "language_info": {
   "codemirror_mode": {
    "name": "ipython",
    "version": 3
   },
   "file_extension": ".py",
   "mimetype": "text/x-python",
   "name": "python",
   "nbconvert_exporter": "python",
   "pygments_lexer": "ipython3",
   "version": "3.6.4"
  }
 },
 "nbformat": 4,
 "nbformat_minor": 4
}
