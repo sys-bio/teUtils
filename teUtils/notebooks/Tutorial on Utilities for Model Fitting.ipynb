{
 "cells": [
  {
   "cell_type": "markdown",
   "metadata": {},
   "source": [
    "# Tutorial on Helpers for Model Fitting\n",
    "\n",
    "This tutorial discusses helper codes you can use for model fitting with tellurium. The tutorial gives practical examples of to use these codes in a model fitting workflow.\n",
    "\n",
    "The utilities are in 3 python modules (files):\n",
    "\n",
    "- named_timeseries defines a NamedTimeseries type that allows you to manipulate tabular data that has a time axis. A NamedTimeseries can be initialized from a comma separated variable (CSV) file.\n",
    "- model_fitter defines a ModelFitter type that encapsulates the basics of fitting parameters to a NamedTimeseries. You can simulate the fitted model, and the result is a NamedTimeseries.\n",
    "- timeseries_plotter plots one or two NamedTimeseries. You can have all variables on a single subplot or have separate subplots for each variable.\n",
    "\n",
    "You should open this notebook from ``teUtils``, then open the folder ``notebooks`` to find this notebook."
   ]
  },
  {
   "cell_type": "code",
   "execution_count": 2,
   "metadata": {},
   "outputs": [],
   "source": [
    "# Some magic to get the paths right\n",
    "import sys\n",
    "import os\n",
    "teutils = os.path.dirname(os.path.abspath(os.curdir))\n",
    "teutils_teutils = os.path.join(teutils, \"teUtils\")\n",
    "sys.path.extend([teutils, teutils_teutils])"
   ]
  },
  {
   "cell_type": "code",
   "execution_count": 3,
   "metadata": {},
   "outputs": [],
   "source": [
    "import numpy as np\n",
    "import tellurium as te\n",
    "\n",
    "from teUtils.named_timeseries import NamedTimeseries, TIME\n",
    "from teUtils.timeseries_plotter import TimeseriesPlotter, PlotOptions\n",
    "from teUtils.model_fitter import ModelFitter\n"
   ]
  },
  {
   "cell_type": "markdown",
   "metadata": {},
   "source": [
    "## Manipulating Tabular Data\n",
    "Tables are a great way to describe data. Tables are a collection of values organized into rows and columns. Typically, the columns have names. Common operations on tables are:\n",
    "\n",
    "- Create a table from a file\n",
    "- Create a new table from a subset of rows and/or columns\n",
    "- Create new columns and/rows by performing addition, subtaction, and other operations on table rows and columns.\n",
    "\n",
    "Many systems provide table representations. Spreadsheets are widely used. In the R language, a dataframe is a table. In python, the pandas package provides a python version of dataframes.\n",
    "\n",
    "Pandas is very powerful, but it is slow. numpy provides arrays and matrices, but these lack the convenience of column names. In addition, the variables we analyze are collected at the same timepoints, and so it's important to associate these timepoints with the variable values.\n",
    "\n",
    "``NamedTimeseries`` is a thin layer on top of numpy ``ndarray`` that provides an efficient table abstraction. Efficiency is a particular concern for model fitting since fitting can be very numerically intensive."
   ]
  },
  {
   "cell_type": "markdown",
   "metadata": {},
   "source": [
    "Let's start by creating a ``NamedTimeseries`` from the file ``tst_data.txt``. In python, an object is created from a constructor that is the class name followed by arguments. There are several constructors for ``NamedTimeseries``."
   ]
  },
  {
   "cell_type": "code",
   "execution_count": 4,
   "metadata": {},
   "outputs": [
    {
     "name": "stdout",
     "output_type": "stream",
     "text": [
      "             S1      S2      S3      S4      S5      S6\n",
      "time                                                   \n",
      "0.0000   9.9639  0.0245  0.2788  0.6869  0.2543  0.8066\n",
      "0.1379  10.1430  1.1243  1.1493  0.7275  0.2183  1.3300\n",
      "0.2759   6.9845  2.4260  0.6174  0.9473  0.2214  0.1860\n",
      "0.4138   7.3271  2.4685  1.7287  0.1039  0.5660  1.1456\n",
      "0.5517   7.0252  1.8382  0.9091  0.4570  0.3135  0.9807\n",
      "0.6897   6.0840  2.7645  1.6500  0.3831  0.6469  0.5328\n",
      "0.8276   3.8228  3.3404  1.2123  1.7698  1.5003  1.0749\n",
      "0.9655   4.6108  1.7214  1.6500  1.0085  0.1968  1.7338\n",
      "1.1034   3.5587  1.8193  1.2961  1.2860  0.2940  1.6741\n",
      "1.2414   2.6042  2.4365  2.5273  2.5676  0.6165  0.7777\n",
      "1.3793   2.6670  1.2691  2.0335  2.2550  0.8024  2.8139\n",
      "1.5172   1.2771  1.3716  0.7828  0.9520  1.0949  2.5456\n",
      "1.6552   2.7374  1.8548  0.7135  0.6904  0.3783  4.0125\n",
      "1.7931   1.3202  0.6774  2.8310  1.9432  0.7798  5.0623\n",
      "1.9310   1.7973  0.8914  2.6131  1.0384  0.5163  3.3272\n",
      "2.0690   1.2621  0.0490  0.7817  1.4685  0.2633  4.7720\n",
      "2.2069   1.4960  0.6051  0.4027  0.5714  0.9231  6.4554\n",
      "2.3448   0.3916  0.8890  0.5679  0.0944  0.5756  5.9069\n",
      "2.4828   0.4466  1.5423  0.2392  0.9633  0.0434  6.3855\n",
      "2.6207   0.0273  0.7030  0.0020  0.6078  1.1588  7.2407\n",
      "2.7586   0.9890  1.0280  0.0409  0.5468  0.7311  7.6404\n",
      "2.8966   2.1638  0.5444  0.5541  0.0324  0.0137  6.3463\n",
      "3.0345   0.8864  1.6733  0.4924  1.1280  1.1735  7.2299\n",
      "3.1724   0.8462  1.1937  0.2872  0.5248  0.4158  8.8292\n",
      "3.3103   1.6112  0.7011  0.1874  0.8528  0.8129  8.5238\n",
      "3.4483   0.5661  1.1796  0.7372  1.2530  0.8989  7.8576\n",
      "3.5862   0.8420  1.8484  0.0553  1.5466  1.1462  8.4592\n",
      "3.7241   1.2170  0.7352  0.3716  1.4712  0.1689  9.2686\n",
      "3.8621   0.7234  0.7427  0.2593  0.9199  0.8576  9.9198\n",
      "4.0000   0.5486  0.3628  1.1886  0.1356  0.9790  8.7787\n"
     ]
    }
   ],
   "source": [
    "ts1 = NamedTimeseries(csv_path=\"tst_data.txt\")  # Construct from a file\n",
    "print(ts1)"
   ]
  },
  {
   "cell_type": "markdown",
   "metadata": {},
   "source": [
    "There are 7 columns (including \"time\") and 30 rows. All ``NamedTimeseries`` have a \"time\" column. In fact, the python variable ``TIME`` can be used to reference this column."
   ]
  },
  {
   "cell_type": "markdown",
   "metadata": {},
   "source": [
    "We reference rows by their \"index\", their count from 0. In fact, we can make a new ``NamedTimeseries`` that consists of a subset of the rows."
   ]
  },
  {
   "cell_type": "code",
   "execution_count": 5,
   "metadata": {},
   "outputs": [
    {
     "name": "stdout",
     "output_type": "stream",
     "text": [
      "            S1      S2      S3      S4      S5    S6\n",
      "time                                                \n",
      "0.1379  10.143  1.1243  1.1493  0.7275  0.2183  1.33\n"
     ]
    }
   ],
   "source": [
    "# Get the first row\n",
    "print(ts1[1])"
   ]
  },
  {
   "cell_type": "code",
   "execution_count": 6,
   "metadata": {},
   "outputs": [
    {
     "name": "stdout",
     "output_type": "stream",
     "text": [
      "             S1      S2      S3      S4      S5      S6\n",
      "time                                                   \n",
      "0.1379  10.1430  1.1243  1.1493  0.7275  0.2183  1.3300\n",
      "0.4138   7.3271  2.4685  1.7287  0.1039  0.5660  1.1456\n",
      "0.6897   6.0840  2.7645  1.6500  0.3831  0.6469  0.5328\n"
     ]
    }
   ],
   "source": [
    "# Get rows 1, 3, 5\n",
    "print(ts1[[1, 3, 5]])"
   ]
  },
  {
   "cell_type": "code",
   "execution_count": 7,
   "metadata": {},
   "outputs": [
    {
     "name": "stdout",
     "output_type": "stream",
     "text": [
      "             S1      S2      S3      S4      S5      S6\n",
      "time                                                   \n",
      "0.1379  10.1430  1.1243  1.1493  0.7275  0.2183  1.3300\n",
      "0.2759   6.9845  2.4260  0.6174  0.9473  0.2214  0.1860\n",
      "0.4138   7.3271  2.4685  1.7287  0.1039  0.5660  1.1456\n",
      "0.5517   7.0252  1.8382  0.9091  0.4570  0.3135  0.9807\n",
      "0.6897   6.0840  2.7645  1.6500  0.3831  0.6469  0.5328\n"
     ]
    }
   ],
   "source": [
    "# Get rows 1 through 5\n",
    "# This is a slice; you specify the first row you want and where the slice stops\n",
    "ts2 = ts1[1:6]\n",
    "print(ts2)"
   ]
  },
  {
   "cell_type": "markdown",
   "metadata": {},
   "source": [
    "We can also select columns. A column select produces a ``numpy`` ``ndarray``, not at ``NamedArray``. This is done so that we can manipulate column selections using the powerful numpy facilities."
   ]
  },
  {
   "cell_type": "code",
   "execution_count": 8,
   "metadata": {},
   "outputs": [
    {
     "data": {
      "text/plain": [
       "array([10.143 ,  6.9845,  7.3271,  7.0252,  6.084 ])"
      ]
     },
     "execution_count": 8,
     "metadata": {},
     "output_type": "execute_result"
    }
   ],
   "source": [
    "ts2[\"S1\"]  # Column S1 in ts2"
   ]
  },
  {
   "cell_type": "markdown",
   "metadata": {},
   "source": [
    "To get the numpy array for a list of columns, we give the list."
   ]
  },
  {
   "cell_type": "code",
   "execution_count": 9,
   "metadata": {},
   "outputs": [
    {
     "data": {
      "text/plain": [
       "array([[10.143 ,  1.1243],\n",
       "       [ 6.9845,  2.426 ],\n",
       "       [ 7.3271,  2.4685],\n",
       "       [ 7.0252,  1.8382],\n",
       "       [ 6.084 ,  2.7645]])"
      ]
     },
     "execution_count": 9,
     "metadata": {},
     "output_type": "execute_result"
    }
   ],
   "source": [
    "ts2[[\"S1\", \"S2\"]]"
   ]
  },
  {
   "cell_type": "markdown",
   "metadata": {},
   "source": [
    "To get a **new timeseries** that just has \"S1\", you use ``subsetColumns``."
   ]
  },
  {
   "cell_type": "code",
   "execution_count": 10,
   "metadata": {},
   "outputs": [
    {
     "name": "stdout",
     "output_type": "stream",
     "text": [
      "             S1\n",
      "time           \n",
      "0.1379  10.1430\n",
      "0.2759   6.9845\n",
      "0.4138   7.3271\n",
      "0.5517   7.0252\n",
      "0.6897   6.0840\n"
     ]
    }
   ],
   "source": [
    "ts2a = ts2.subsetColumns(\"S1\")\n",
    "print(ts2a)"
   ]
  },
  {
   "cell_type": "code",
   "execution_count": 11,
   "metadata": {},
   "outputs": [
    {
     "name": "stdout",
     "output_type": "stream",
     "text": [
      "             S1      S2\n",
      "time                   \n",
      "0.1379  10.1430  1.1243\n",
      "0.2759   6.9845  2.4260\n",
      "0.4138   7.3271  2.4685\n",
      "0.5517   7.0252  1.8382\n",
      "0.6897   6.0840  2.7645\n"
     ]
    }
   ],
   "source": [
    "# Create a timeseries from ts2 with just S1, S2\n",
    "print(ts2.subsetColumns(\"S1\", \"S2\"))"
   ]
  },
  {
   "cell_type": "markdown",
   "metadata": {},
   "source": [
    "We can add columns to the timeseries. Here, we add a column with a constant value of 1."
   ]
  },
  {
   "cell_type": "code",
   "execution_count": 12,
   "metadata": {},
   "outputs": [
    {
     "name": "stdout",
     "output_type": "stream",
     "text": [
      "             S1      S2      S3      S4      S5      S6  constant_1\n",
      "time                                                               \n",
      "0.1379  10.1430  1.1243  1.1493  0.7275  0.2183  1.3300         1.0\n",
      "0.2759   6.9845  2.4260  0.6174  0.9473  0.2214  0.1860         1.0\n",
      "0.4138   7.3271  2.4685  1.7287  0.1039  0.5660  1.1456         1.0\n",
      "0.5517   7.0252  1.8382  0.9091  0.4570  0.3135  0.9807         1.0\n",
      "0.6897   6.0840  2.7645  1.6500  0.3831  0.6469  0.5328         1.0\n"
     ]
    }
   ],
   "source": [
    "ts2[\"constant_1\"] = 1\n",
    "print(ts2)"
   ]
  },
  {
   "cell_type": "markdown",
   "metadata": {},
   "source": [
    "We can also do calculations and create new columns with the results."
   ]
  },
  {
   "cell_type": "code",
   "execution_count": 13,
   "metadata": {},
   "outputs": [
    {
     "name": "stdout",
     "output_type": "stream",
     "text": [
      "             S1      S2      S3      S4      S5      S6  constant_1  \\\n",
      "time                                                                  \n",
      "0.1379  10.1430  1.1243  1.1493  0.7275  0.2183  1.3300         1.0   \n",
      "0.2759   6.9845  2.4260  0.6174  0.9473  0.2214  0.1860         1.0   \n",
      "0.4138   7.3271  2.4685  1.7287  0.1039  0.5660  1.1456         1.0   \n",
      "0.5517   7.0252  1.8382  0.9091  0.4570  0.3135  0.9807         1.0   \n",
      "0.6897   6.0840  2.7645  1.6500  0.3831  0.6469  0.5328         1.0   \n",
      "\n",
      "        New_Calculation  Other_Calculation  \n",
      "time                                        \n",
      "0.1379        10.298041          11.693410  \n",
      "0.2759         7.653833          13.677834  \n",
      "0.4138         8.348565          17.541753  \n",
      "0.5517         8.039335          17.166549  \n",
      "0.6897         7.990676          25.150756  \n"
     ]
    }
   ],
   "source": [
    "ts2[\"New_Calculation\"] = ts2[\"S1\"] + np.multiply(ts2[\"S2\"], ts2[TIME])\n",
    "ts2[\"Other_Calculation\"] = ts2[\"S1\"] + 10*np.multiply(ts2[\"S2\"], ts2[TIME])\n",
    "print(ts2)"
   ]
  },
  {
   "cell_type": "code",
   "execution_count": 14,
   "metadata": {},
   "outputs": [
    {
     "name": "stdout",
     "output_type": "stream",
     "text": [
      "             S1      S2      S3      S4      S5      S6  constant_1  \\\n",
      "time                                                                  \n",
      "0.1379  10.1430  1.1243  1.1493  0.7275  0.2183  1.3300         1.0   \n",
      "0.2759   6.9845  2.4260  0.6174  0.9473  0.2214  0.1860         1.0   \n",
      "0.4138   7.3271  2.4685  1.7287  0.1039  0.5660  1.1456         1.0   \n",
      "0.5517   7.0252  1.8382  0.9091  0.4570  0.3135  0.9807         1.0   \n",
      "0.6897   6.0840  2.7645  1.6500  0.3831  0.6469  0.5328         1.0   \n",
      "\n",
      "        New_Calculation  \n",
      "time                     \n",
      "0.1379        10.298041  \n",
      "0.2759         7.653833  \n",
      "0.4138         8.348565  \n",
      "0.5517         8.039335  \n",
      "0.6897         7.990676  \n"
     ]
    }
   ],
   "source": [
    "# Let's get rid of Other_Calculation\n",
    "del ts2[\"Other_Calculation\"]\n",
    "print(ts2)"
   ]
  },
  {
   "cell_type": "markdown",
   "metadata": {},
   "source": [
    "We can combine the rows and columns of a ``NamedTimeseries`` to make a new ``NamedTimeseries``."
   ]
  },
  {
   "cell_type": "code",
   "execution_count": 15,
   "metadata": {},
   "outputs": [
    {
     "name": "stdout",
     "output_type": "stream",
     "text": [
      "             S1      S2      S3  New_Calculation\n",
      "time                                            \n",
      "0.1379  10.1430  1.1243  1.1493        10.298041\n",
      "0.2759   6.9845  2.4260  0.6174         7.653833\n",
      "0.4138   7.3271  2.4685  1.7287         8.348565\n",
      "0.5517   7.0252  1.8382  0.9091         8.039335\n",
      "0.6897   6.0840  2.7645  1.6500         7.990676\n"
     ]
    }
   ],
   "source": [
    "ts3 = ts2.subsetColumns(\"S1\", \"S2\")\n",
    "ts4 = ts2.subsetColumns(\"S3\")\n",
    "ts5 = ts2.subsetColumns(\"New_Calculation\")\n",
    "ts6 = ts3.concatenateColumns(ts4, ts5)  # Has S1, S2, S3, New_Calculation\"\n",
    "print(ts6)"
   ]
  },
  {
   "cell_type": "code",
   "execution_count": 16,
   "metadata": {},
   "outputs": [
    {
     "name": "stdout",
     "output_type": "stream",
     "text": [
      "             S1      S2      S3      S4      S5      S6\n",
      "time                                                   \n",
      "0.0000   9.9639  0.0245  0.2788  0.6869  0.2543  0.8066\n",
      "0.1379  10.1430  1.1243  1.1493  0.7275  0.2183  1.3300\n",
      "0.2759   6.9845  2.4260  0.6174  0.9473  0.2214  0.1860\n",
      "0.4138   7.3271  2.4685  1.7287  0.1039  0.5660  1.1456\n",
      "0.5517   7.0252  1.8382  0.9091  0.4570  0.3135  0.9807\n",
      "0.6897   6.0840  2.7645  1.6500  0.3831  0.6469  0.5328\n"
     ]
    }
   ],
   "source": [
    "ts7 = ts1[:2]\n",
    "ts8 = ts1[2:4]\n",
    "ts9 = ts1[4:6]\n",
    "ts10 = ts7.concatenateRows(ts8, ts9)  # First 6 rows of ts1\n",
    "print(ts10)"
   ]
  },
  {
   "cell_type": "code",
   "execution_count": 17,
   "metadata": {},
   "outputs": [],
   "source": [
    "# Save the result in a file\n",
    "ts2.to_csv(\"new_data.csv\")"
   ]
  },
  {
   "cell_type": "code",
   "execution_count": 18,
   "metadata": {},
   "outputs": [
    {
     "name": "stdout",
     "output_type": "stream",
     "text": [
      "time,S1,S2,S3,S4,S5,S6,constant_1,New_Calculation\r\n",
      "0.1379,10.143,1.1243,1.1493,0.7275,0.2183,1.33,1.0,10.29804097\r\n",
      "0.2759,6.9845,2.426,0.6174,0.9473,0.2214,0.186,1.0,7.6538334\r\n",
      "0.4138,7.3271,2.4685,1.7287,0.1039,0.566,1.1456,1.0,8.3485653\r\n",
      "0.5517,7.0252,1.8382,0.9091,0.457,0.3135,0.9807,1.0,8.03933494\r\n",
      "0.6897,6.084,2.7645,1.65,0.3831,0.6469,0.5328,1.0,7.99067565\r\n"
     ]
    }
   ],
   "source": [
    "# To see the file, we run a command in the operating system shell. The following works in Unix and Mac.\n",
    "!cat new_data.csv"
   ]
  },
  {
   "cell_type": "markdown",
   "metadata": {},
   "source": [
    "## Plotting Tabular Data\n",
    "We provide 4 types of plots with user controllable options for the plots. The plots are:\n",
    "\n",
    "1. Plot all variables of one table on a single plot.\n",
    "1. Plot all variables of one table in one plot and all variables of second plot\n",
    "1. Plot each variable of a table in a separate plot\n",
    "1.  Plot each variable of two tables in the same plot"
   ]
  },
  {
   "cell_type": "code",
   "execution_count": 19,
   "metadata": {},
   "outputs": [],
   "source": [
    "# Create the plotter object\n",
    "plotter = TimeseriesPlotter(ts1)"
   ]
  },
  {
   "cell_type": "code",
   "execution_count": 20,
   "metadata": {},
   "outputs": [
    {
     "data": {
      "image/png": "[encoded data removed]",
      "text/plain": [
       "<Figure size 576x432 with 2 Axes>"
      ]
     },
     "metadata": {
      "needs_background": "light"
     },
     "output_type": "display_data"
    }
   ],
   "source": [
    "# Case 1: Plot all variables of a single table on a single plot\n",
    "plotter.plotMultiple(timeseries2=ts1)"
   ]
  },
  {
   "cell_type": "code",
   "execution_count": 21,
   "metadata": {},
   "outputs": [
    {
     "data": {
      "text/plain": [
       "<matplotlib.collections.PathCollection at 0x7fac3b7db358>"
      ]
     },
     "execution_count": 21,
     "metadata": {},
     "output_type": "execute_result"
    },
    {
     "data": {
      "image/png": "[encoded data removed]",
      "text/plain": [
       "<Figure size 432x288 with 1 Axes>"
      ]
     },
     "metadata": {
      "needs_background": "light"
     },
     "output_type": "display_data"
    }
   ],
   "source": [
    "colnames = [\"S1\", \"S2\"]\n",
    "arr = ts1[colnames]\n",
    "import matplotlib.pyplot as plt\n",
    "plt.scatter(arr[:,0], arr[:, 1])"
   ]
  },
  {
   "cell_type": "code",
   "execution_count": 22,
   "metadata": {},
   "outputs": [
    {
     "ename": "AttributeError",
     "evalue": "'TimeseriesPlotter' object has no attribute 'plotPair'",
     "output_type": "error",
     "traceback": [
      "\u001b[0;31m---------------------------------------------------------------------------\u001b[0m",
      "\u001b[0;31mAttributeError\u001b[0m                            Traceback (most recent call last)",
      "\u001b[0;32m<ipython-input-22-65f0c3951dce>\u001b[0m in \u001b[0;36m<module>\u001b[0;34m\u001b[0m\n\u001b[0;32m----> 1\u001b[0;31m \u001b[0mplotter\u001b[0m\u001b[0;34m.\u001b[0m\u001b[0mplotPair\u001b[0m\u001b[0;34m(\u001b[0m\u001b[0;34m\"S1\"\u001b[0m\u001b[0;34m,\u001b[0m \u001b[0;34m\"S2\"\u001b[0m\u001b[0;34m)\u001b[0m\u001b[0;34m\u001b[0m\u001b[0m\n\u001b[0m",
      "\u001b[0;31mAttributeError\u001b[0m: 'TimeseriesPlotter' object has no attribute 'plotPair'"
     ]
    }
   ],
   "source": [
    "plotter.plotPair(\"S1\", \"S2\")"
   ]
  },
  {
   "cell_type": "code",
   "execution_count": null,
   "metadata": {},
   "outputs": [],
   "source": [
    "# We can also plot a subset of the variables in a single plot\n",
    "plotter.plotMultiple(variables=[\"S1\", \"S6\"])"
   ]
  },
  {
   "cell_type": "code",
   "execution_count": null,
   "metadata": {},
   "outputs": [],
   "source": [
    "# Add to the plot with options\n",
    "options = PlotOptions()\n",
    "options.ylabel = \"concentration\"\n",
    "options.title = \"Two Variables\"\n",
    "plotter.plotMultiple(variables=[\"S1\", \"S6\"], options=options)"
   ]
  },
  {
   "cell_type": "code",
   "execution_count": null,
   "metadata": {},
   "outputs": [],
   "source": [
    "# Create a second table for comparisons. We can access all non-time variables using the property colnames.\n",
    "ts4 = ts1.copy()  # Create a copy of the timeseries\n",
    "ts4[ts4.colnames] = 5*np.cos(ts4[ts4.colnames]) + 2*ts4[ts4.colnames]"
   ]
  },
  {
   "cell_type": "code",
   "execution_count": null,
   "metadata": {},
   "outputs": [],
   "source": [
    "# Case 2: Plot two multiple variable plots, side-by-side\n",
    "plotter.plotMultiple(timeseries2=ts4)"
   ]
  },
  {
   "cell_type": "code",
   "execution_count": null,
   "metadata": {},
   "outputs": [],
   "source": [
    "ax = plotter.plotSingle(options=options, num_row=2, num_col=3, timeseries2=ts4, is_plot=False)\n",
    "ax.set_xlabel(\"yyyy\")"
   ]
  },
  {
   "cell_type": "code",
   "execution_count": null,
   "metadata": {},
   "outputs": [],
   "source": [
    "# Case 3: Separate plot for each variable of a single table\n",
    "options = PlotOptions()\n",
    "options.figsize = (10, 8)\n",
    "plotter.plotSingle(options=options, num_row=2, num_col=3, timeseries2=ts4)"
   ]
  },
  {
   "cell_type": "code",
   "execution_count": null,
   "metadata": {},
   "outputs": [],
   "source": [
    "# Case 4: Separate plot for each variable for two tables\n",
    "options = PlotOptions()\n",
    "options.figsize = (10, 8)\n",
    "plotter.plotSingle(options=options, timeseries2=ts4)"
   ]
  },
  {
   "cell_type": "markdown",
   "metadata": {},
   "source": [
    "## Fitting Parameters of a Model\n",
    "Kinetics models frequently have unknown constants that need to be estimated. This process of estimation is called model fitting, or just fitting. Fitting involves running multiple simulations with different values of parameters to find values that result in a good match between simulated and measured species concentrations."
   ]
  },
  {
   "cell_type": "code",
   "execution_count": null,
   "metadata": {},
   "outputs": [],
   "source": [
    "ANTIMONY_MODEL = \"\"\" \n",
    "# Reactions   \n",
    "    J1: S1 -> S2; k1*S1\n",
    "    J2: S2 -> S3; k2*S2\n",
    "    J3: S3 -> S4; k3*S3\n",
    "    J4: S4 -> S5; k4*S4\n",
    "    J5: S5 -> S6; k5*S5;\n",
    "# Species initializations\n",
    "    S1 = 10;\n",
    "    S2 = 0;\n",
    "    S3 = 0;\n",
    "    S4 = 0;\n",
    "    S5 = 0;\n",
    "    S6 = 0;\n",
    "    k1 = 1;\n",
    "    k2 = 2;\n",
    "    k3 = 3;\n",
    "    k4 = 4;\n",
    "    k5 = 5;\n",
    "\"\"\""
   ]
  },
  {
   "cell_type": "markdown",
   "metadata": {},
   "source": [
    "This model has the parameters ``k1, k2, k3, k4, k5``, the kinetics constants for their respective reactions. In this case, we know the true value of the parameters, which are specified at the bottom of the model. This knowledge provides a way to explore the effectiveness of model fitting.\n",
    "\n",
    "This model is a linear pathway where mass moves from species ``S1`` to ``S6`` over time. The rate at which this happens depends on the kinetics constants.\n",
    "\n",
    "Let's see how well we can fit this model to the ``ts1`` data described in the first section."
   ]
  },
  {
   "cell_type": "code",
   "execution_count": null,
   "metadata": {},
   "outputs": [],
   "source": [
    "print(ts1)"
   ]
  },
  {
   "cell_type": "markdown",
   "metadata": {},
   "source": [
    "The fitting data has values for each of the six floating species. Model fitting works iteratively varying the values of the parameters, simulating the model with these parameters, and then evaluating how close the simulation is to the fitting data.\n",
    "\n",
    "So, to do a fit, we must specify:\n",
    "\n",
    "1. The model to fit\n",
    "1. The fitting data\n",
    "1. The parameters to estimate\n",
    "\n",
    "To elaborate on point (3), often models contain some parameters whose values are known and others that aren't.\n",
    "\n",
    "The class ``ModelFitter`` is used to do fitting. The constructor must specify all 3 items above. If parameters is None, then no fitting is done."
   ]
  },
  {
   "cell_type": "code",
   "execution_count": null,
   "metadata": {},
   "outputs": [],
   "source": [
    "# Run the model using the parameter values in the model. There is no fitting.\n",
    "base_fitter = ModelFitter(ANTIMONY_MODEL, ts1, None)"
   ]
  },
  {
   "cell_type": "markdown",
   "metadata": {},
   "source": [
    "To fit a model, we use the ``fitModel`` method. We can then see the optimized residual variance and the values of the model parameters."
   ]
  },
  {
   "cell_type": "code",
   "execution_count": null,
   "metadata": {},
   "outputs": [],
   "source": [
    "base_fitter.fitModel()"
   ]
  },
  {
   "cell_type": "code",
   "execution_count": null,
   "metadata": {},
   "outputs": [],
   "source": [
    "np.var(base_fitter.residual_ts.flattenValues())"
   ]
  },
  {
   "cell_type": "code",
   "execution_count": null,
   "metadata": {},
   "outputs": [],
   "source": [
    "parameter_names = [\"k1\", \"k2\", \"k3\", \"k4\", \"k5\"]"
   ]
  },
  {
   "cell_type": "markdown",
   "metadata": {},
   "source": [
    "Let's make use of the plotting capabilities. Since we have a ``NamedTimeseries`` for both the fitting data and the simulation data, we can make use of ``TimeseriesPlotter``."
   ]
  },
  {
   "cell_type": "code",
   "execution_count": null,
   "metadata": {},
   "outputs": [],
   "source": [
    "plotter = TimeseriesPlotter(ts1)"
   ]
  },
  {
   "cell_type": "code",
   "execution_count": null,
   "metadata": {},
   "outputs": [],
   "source": [
    "base_model = base_fitter.roadrunner_model\n",
    "base_model.reset()\n",
    "base_ts = NamedTimeseries(named_array=base_model.simulate(ts1.start, ts1.end, len(ts1)))\n",
    "plotter.plotMultiple(timeseries2=base_ts)"
   ]
  },
  {
   "cell_type": "markdown",
   "metadata": {},
   "source": [
    "This is a bit crowded for detailed comparisons. So, we make comparisons between each variable."
   ]
  },
  {
   "cell_type": "code",
   "execution_count": null,
   "metadata": {},
   "outputs": [],
   "source": [
    "options = PlotOptions()\n",
    "options.figsize = (12, 10)  # Fiigure size in width by length\n",
    "plotter.plotSingle(timeseries2=base_ts, num_row=2, num_col=3)"
   ]
  },
  {
   "cell_type": "markdown",
   "metadata": {},
   "source": [
    "In our running example, the values of parameters in the original model are their true value. Ideally, we want to achieve a variance close to this. We create a new fitter object since we still want to have access to the unchanged model that we started with."
   ]
  },
  {
   "cell_type": "code",
   "execution_count": null,
   "metadata": {},
   "outputs": [],
   "source": [
    "fitter = ModelFitter(ANTIMONY_MODEL, ts1, parameter_names)\n",
    "fitter.fitModel()\n",
    "print(\"residual variance of the fitted model: %3.2f\" % fitter.optimized_residual_variance)\n",
    "print(\"Values of fitted parameters: %s\" % str(fitter.getFittedParameters()))"
   ]
  },
  {
   "cell_type": "markdown",
   "metadata": {},
   "source": [
    "Now let's compare the fitted model with the data."
   ]
  },
  {
   "cell_type": "code",
   "execution_count": null,
   "metadata": {},
   "outputs": [],
   "source": [
    "fitted_model = fitter.roadrunner_model\n",
    "fitted_model.reset()\n",
    "fitted_ts = NamedTimeseries(named_array=fitted_model.simulate(ts1.start, ts1.end, len(ts1)))\n",
    "plotter.plotMultiple(timeseries2=fitted_ts)"
   ]
  },
  {
   "cell_type": "code",
   "execution_count": null,
   "metadata": {},
   "outputs": [],
   "source": [
    "options = PlotOptions()\n",
    "options.figsize = (12, 10)  # Fiigure size in width by length\n",
    "plotter.plotSingle(timeseries2=fitted_ts, num_row=2, num_col=3, options=options)"
   ]
  },
  {
   "cell_type": "markdown",
   "metadata": {},
   "source": [
    "Since these plots look very similar to the what we got with the base simulation with its orginal values, we compare the base with the fitted values."
   ]
  },
  {
   "cell_type": "code",
   "execution_count": null,
   "metadata": {},
   "outputs": [],
   "source": [
    "options = PlotOptions()\n",
    "options.figsize = (12, 10)  # Fiigure size in width by length\n",
    "plotter = TimeseriesPlotter(base_ts)\n",
    "plotter.plotSingle(timeseries2=fitted_ts, num_row=2, num_col=3, options=options)"
   ]
  },
  {
   "cell_type": "markdown",
   "metadata": {},
   "source": [
    "To understand deviations here, let' return to the fitted values and contrast them with the \"ground truth\". We see that ``k1, k3, k5`` are quite close to \"ground truth\", but this is not the case for ``k2, k4``."
   ]
  },
  {
   "cell_type": "code",
   "execution_count": null,
   "metadata": {},
   "outputs": [],
   "source": [
    "fitter.getFittedParameters()"
   ]
  }
 ],
 "metadata": {
  "kernelspec": {
   "display_name": "Python 3",
   "language": "python",
   "name": "python3"
  },
  "language_info": {
   "codemirror_mode": {
    "name": "ipython",
    "version": 3
   },
   "file_extension": ".py",
   "mimetype": "text/x-python",
   "name": "python",
   "nbconvert_exporter": "python",
   "pygments_lexer": "ipython3",
   "version": "3.6.4"
  }
 },
 "nbformat": 4,
 "nbformat_minor": 4
}
