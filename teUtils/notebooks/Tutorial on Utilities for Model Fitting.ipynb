{
 "cells": [
  {
   "cell_type": "markdown",
   "metadata": {},
   "source": [
    "# Tutorial on Helpers for Model Fitting\n",
    "\n",
    "This tutorial discusses helper codes you can use for model fitting with tellurium. The tutorial gives practical examples of to use these codes in a model fitting workflow.\n",
    "\n",
    "The utilities are in 3 python modules (files):\n",
    "\n",
    "- named_timeseries defines a NamedTimeseries type that allows you to manipulate tabular data that has a time axis. A NamedTimeseries can be initialized from a comma separated variable (CSV) file.\n",
    "- model_fitter defines a ModelFitter type that encapsulates the basics of fitting parameters to a NamedTimeseries. You can simulate the fitted model, and the result is a NamedTimeseries.\n",
    "- timeseries_plotter plots one or two NamedTimeseries. You can have all variables on a single subplot or have separate subplots for each variable.\n",
    "\n",
    "You should open this notebook from ``teUtils``, then open the folder ``notebooks`` to find this notebook."
   ]
  },
  {
   "cell_type": "markdown",
   "metadata": {},
   "source": [
    "## Quick Start"
   ]
  },
  {
   "cell_type": "code",
   "execution_count": 1,
   "metadata": {},
   "outputs": [],
   "source": [
    "# Basic imports\n",
    "from teUtils.model_fitter import ModelFitter "
   ]
  },
  {
   "cell_type": "code",
   "execution_count": 2,
   "metadata": {},
   "outputs": [],
   "source": [
    "# Model of a linear pathway\n",
    "ANTIMONY_MODEL = \"\"\" \n",
    "# Reactions   \n",
    "    J1: S1 -> S2; k1*S1\n",
    "    J2: S2 -> S3; k2*S2\n",
    "    J3: S3 -> S4; k3*S3\n",
    "    J4: S4 -> S5; k4*S4\n",
    "    J5: S5 -> S6; k5*S5;\n",
    "# Species initializations\n",
    "    S1 = 10;\n",
    "    S2 = 0;\n",
    "    S3 = 0;\n",
    "    S4 = 0;\n",
    "    S5 = 0;\n",
    "    S6 = 0;\n",
    "    k1 = 1;\n",
    "    k2 = 2;\n",
    "    k3 = 3;\n",
    "    k4 = 4;\n",
    "    k5 = 5;\n",
    "\"\"\""
   ]
  },
  {
   "cell_type": "code",
   "execution_count": 3,
   "metadata": {},
   "outputs": [],
   "source": [
    "# Fit parameters to ts1\n",
    "fitter = ModelFitter(ANTIMONY_MODEL, \"tst_data.txt\", [\"k1\", \"k2\", \"k3\", \"k4\", \"k5\"])\n",
    "fitter.fitModel()"
   ]
  },
  {
   "cell_type": "code",
   "execution_count": null,
   "metadata": {},
   "outputs": [],
   "source": [
    "# Provide fit details\n",
    "print(fitter.reportFit())"
   ]
  },
  {
   "cell_type": "code",
   "execution_count": null,
   "metadata": {},
   "outputs": [],
   "source": [
    "# Plot the fitl\n",
    "fitter.plotFitAll(num_row=2, num_col=3)"
   ]
  },
  {
   "cell_type": "code",
   "execution_count": null,
   "metadata": {},
   "outputs": [],
   "source": [
    "# Look at the plotting options\n",
    "fitter.plotFitAll(is_help=True)"
   ]
  },
  {
   "cell_type": "code",
   "execution_count": null,
   "metadata": {},
   "outputs": [],
   "source": [
    "# Plot residuals\n",
    "fitter.plotResiduals(num_row=2, num_col=3)"
   ]
  },
  {
   "cell_type": "code",
   "execution_count": null,
   "metadata": {},
   "outputs": [],
   "source": [
    "# Get estimates of parameter variance by using bootstrapping\n",
    "fitter.bootstrap(num_iteration=20, report_interval=5)\n",
    "print(fitter.getFittedParameterStds())"
   ]
  },
  {
   "cell_type": "markdown",
   "metadata": {},
   "source": [
    "## Detailed Tutorial"
   ]
  },
  {
   "cell_type": "code",
   "execution_count": null,
   "metadata": {},
   "outputs": [],
   "source": [
    "# Import the modules needed.\n",
    "import numpy as np\n",
    "import tellurium as te\n",
    "\n",
    "from teUtils.named_timeseries import NamedTimeseries, TIME\n",
    "from teUtils.timeseries_plotter import TimeseriesPlotter, PlotOptions\n",
    "from teUtils.model_fitter import ModelFitter\n"
   ]
  },
  {
   "cell_type": "markdown",
   "metadata": {},
   "source": [
    "## Manipulating Tabular Data\n",
    "Tables are a great way to describe data. Tables are a collection of values organized into rows and columns. Typically, the columns have names. Common operations on tables are:\n",
    "\n",
    "- Create a table from a file\n",
    "- Create a new table from a subset of rows and/or columns\n",
    "- Create new columns and/rows by performing addition, subtaction, and other operations on table rows and columns.\n",
    "\n",
    "Many systems provide table representations. Spreadsheets are widely used. In the R language, a dataframe is a table. In python, the pandas package provides a python version of dataframes.\n",
    "\n",
    "Pandas is very powerful, but it is slow. numpy provides arrays and matrices, but these lack the convenience of column names. In addition, the variables we analyze are collected at the same timepoints, and so it's important to associate these timepoints with the variable values.\n",
    "\n",
    "``NamedTimeseries`` is a thin layer on top of numpy ``ndarray`` that provides an efficient table abstraction. Efficiency is a particular concern for model fitting since fitting can be very numerically intensive."
   ]
  },
  {
   "cell_type": "markdown",
   "metadata": {},
   "source": [
    "Let's start by creating a ``NamedTimeseries`` from the file ``tst_data.txt``. In python, an object is created from a constructor that is the class name followed by arguments. There are several constructors for ``NamedTimeseries``."
   ]
  },
  {
   "cell_type": "code",
   "execution_count": null,
   "metadata": {},
   "outputs": [],
   "source": [
    "ts1 = NamedTimeseries(csv_path=\"tst_data.txt\")  # Construct from a file\n",
    "print(ts1)"
   ]
  },
  {
   "cell_type": "markdown",
   "metadata": {},
   "source": [
    "There are 7 columns (including \"time\") and 30 rows. All ``NamedTimeseries`` have a \"time\" column. In fact, the python variable ``TIME`` can be used to reference this column."
   ]
  },
  {
   "cell_type": "markdown",
   "metadata": {},
   "source": [
    "We reference rows by their \"index\", their count from 0. In fact, we can make a new ``NamedTimeseries`` that consists of a subset of the rows."
   ]
  },
  {
   "cell_type": "code",
   "execution_count": null,
   "metadata": {},
   "outputs": [],
   "source": [
    "# Get the first row\n",
    "print(ts1[1])"
   ]
  },
  {
   "cell_type": "code",
   "execution_count": null,
   "metadata": {},
   "outputs": [],
   "source": [
    "# Get rows 1, 3, 5\n",
    "print(ts1[[1, 3, 5]])"
   ]
  },
  {
   "cell_type": "code",
   "execution_count": null,
   "metadata": {},
   "outputs": [],
   "source": [
    "# Get rows 1 through 5\n",
    "# This is a slice; you specify the first row you want and where the slice stops\n",
    "ts2 = ts1[1:6]\n",
    "print(ts2)"
   ]
  },
  {
   "cell_type": "markdown",
   "metadata": {},
   "source": [
    "We can also select columns. A column select produces a ``numpy`` ``ndarray``, not at ``NamedArray``. This is done so that we can manipulate column selections using the powerful numpy facilities."
   ]
  },
  {
   "cell_type": "code",
   "execution_count": null,
   "metadata": {},
   "outputs": [],
   "source": [
    "ts2[\"S1\"]  # Column S1 in ts2"
   ]
  },
  {
   "cell_type": "markdown",
   "metadata": {},
   "source": [
    "To get the numpy array for a list of columns, we give the list."
   ]
  },
  {
   "cell_type": "code",
   "execution_count": null,
   "metadata": {},
   "outputs": [],
   "source": [
    "ts2[[\"S1\", \"S2\"]]"
   ]
  },
  {
   "cell_type": "markdown",
   "metadata": {},
   "source": [
    "To get a **new timeseries** that just has \"S1\", you use ``subsetColumns``."
   ]
  },
  {
   "cell_type": "code",
   "execution_count": null,
   "metadata": {},
   "outputs": [],
   "source": [
    "ts2a = ts2.subsetColumns(\"S1\")\n",
    "print(ts2a)"
   ]
  },
  {
   "cell_type": "code",
   "execution_count": null,
   "metadata": {},
   "outputs": [],
   "source": [
    "# Create a timeseries from ts2 with just S1, S2\n",
    "print(ts2.subsetColumns([\"S1\", \"S2\"]))"
   ]
  },
  {
   "cell_type": "markdown",
   "metadata": {},
   "source": [
    "We can add columns to the timeseries. Here, we add a column with a constant value of 1."
   ]
  },
  {
   "cell_type": "code",
   "execution_count": null,
   "metadata": {},
   "outputs": [],
   "source": [
    "ts2[\"constant_1\"] = 1\n",
    "print(ts2)"
   ]
  },
  {
   "cell_type": "markdown",
   "metadata": {},
   "source": [
    "We can also do calculations and create new columns with the results."
   ]
  },
  {
   "cell_type": "code",
   "execution_count": null,
   "metadata": {},
   "outputs": [],
   "source": [
    "ts2[\"New_Calculation\"] = ts2[\"S1\"] + np.multiply(ts2[\"S2\"], ts2[TIME])\n",
    "ts2[\"Other_Calculation\"] = ts2[\"S1\"] + 10*np.multiply(ts2[\"S2\"], ts2[TIME])\n",
    "print(ts2)"
   ]
  },
  {
   "cell_type": "code",
   "execution_count": null,
   "metadata": {},
   "outputs": [],
   "source": [
    "# Let's get rid of Other_Calculation\n",
    "del ts2[\"Other_Calculation\"]\n",
    "print(ts2)"
   ]
  },
  {
   "cell_type": "markdown",
   "metadata": {},
   "source": [
    "We can combine the rows and columns of a ``NamedTimeseries`` to make a new ``NamedTimeseries``."
   ]
  },
  {
   "cell_type": "code",
   "execution_count": null,
   "metadata": {},
   "outputs": [],
   "source": [
    "ts3 = ts2.subsetColumns([\"S1\", \"S2\"])\n",
    "ts4 = ts2.subsetColumns(\"S3\")\n",
    "ts5 = ts2.subsetColumns(\"New_Calculation\")\n",
    "ts6 = ts3.concatenateColumns([ts4, ts5])  # Has S1, S2, S3, New_Calculation\"\n",
    "print(ts6)"
   ]
  },
  {
   "cell_type": "code",
   "execution_count": null,
   "metadata": {},
   "outputs": [],
   "source": [
    "ts7 = ts1[:2]\n",
    "ts8 = ts1[2:4]\n",
    "ts9 = ts1[4:6]\n",
    "ts10 = ts7.concatenateRows([ts8, ts9])  # First 6 rows of ts1\n",
    "print(ts10)"
   ]
  },
  {
   "cell_type": "code",
   "execution_count": null,
   "metadata": {},
   "outputs": [],
   "source": [
    "# Save the result in a file\n",
    "ts2.to_csv(\"new_data.csv\")"
   ]
  },
  {
   "cell_type": "code",
   "execution_count": null,
   "metadata": {},
   "outputs": [],
   "source": [
    "# To see the file, we run a command in the operating system shell. The following works in Unix and Mac.\n",
    "!cat new_data.csv"
   ]
  },
  {
   "cell_type": "markdown",
   "metadata": {},
   "source": [
    "## Plotting Tabular Data\n",
    "We provide 4 types of plots with user controllable options for the plots. The plots are:\n",
    "\n",
    "1. Plot all variables of one table on a single plot.\n",
    "1. Plot all variables of one table in one plot and all variables of second plot\n",
    "1. Plot each variable of a table in a separate plot\n",
    "1.  Plot each variable of two tables in the same plot"
   ]
  },
  {
   "cell_type": "code",
   "execution_count": null,
   "metadata": {},
   "outputs": [],
   "source": [
    "# Create the plotter object\n",
    "plotter = TimeseriesPlotter()"
   ]
  },
  {
   "cell_type": "code",
   "execution_count": null,
   "metadata": {},
   "outputs": [],
   "source": [
    "# To see the plotting options...\n",
    "print(PlotOptions())"
   ]
  },
  {
   "cell_type": "code",
   "execution_count": null,
   "metadata": {},
   "outputs": [],
   "source": [
    "# See the options for plotting\n",
    "help(PlotOptions)"
   ]
  },
  {
   "cell_type": "code",
   "execution_count": null,
   "metadata": {},
   "outputs": [],
   "source": [
    "# Case 1: Plot all variables of a single table on a single plot\n",
    "plotter.plotTimeMultiple(ts1)\n",
    "plotter.plotTimeMultiple(ts1, timeseries2=ts1, marker2=\"o\")\n",
    "plotter.plotTimeMultiple(ts1, timeseries2=ts1, marker2=\"o\", num_col=1, num_row=1)"
   ]
  },
  {
   "cell_type": "code",
   "execution_count": null,
   "metadata": {},
   "outputs": [],
   "source": [
    "# We can also plot a subset of the variables in a single plot\n",
    "plotter.plotTimeMultiple(ts1, columns=[\"S1\", \"S6\"])"
   ]
  },
  {
   "cell_type": "code",
   "execution_count": null,
   "metadata": {},
   "outputs": [],
   "source": [
    "# Add to the plot with options\n",
    "plotter.plotTimeMultiple(ts1, columns=[\"S1\", \"S6\"], ylabel=\"concetration\", title=\"Two Variables\")"
   ]
  },
  {
   "cell_type": "code",
   "execution_count": null,
   "metadata": {},
   "outputs": [],
   "source": [
    "# Create a second table for comparisons. We can access all non-time variables using the property colnames.\n",
    "ts4 = ts1.copy()  # Create a copy of the timeseries\n",
    "ts4[ts4.colnames] = 5*np.cos(ts4[ts4.colnames]) + 2*ts4[ts4.colnames]"
   ]
  },
  {
   "cell_type": "code",
   "execution_count": null,
   "metadata": {},
   "outputs": [],
   "source": [
    "# Case 2: Plot two multiple variable plots, side-by-side\n",
    "plotter.plotTimeMultiple(ts1, timeseries2=ts4)"
   ]
  },
  {
   "cell_type": "code",
   "execution_count": null,
   "metadata": {},
   "outputs": [],
   "source": [
    "# Case 3: Separate plot for each variable of a single table\n",
    "plotter.plotTimeSingle(ts1, num_row=2, num_col=3, timeseries2=ts2,\n",
    "                      figsize=(10,8), marker1=\"o\")"
   ]
  },
  {
   "cell_type": "code",
   "execution_count": null,
   "metadata": {},
   "outputs": [],
   "source": [
    "# Case 4: Separate plot for each variable for two tables\n",
    "plotter.plotTimeSingle(ts1, timeseries2=ts2, figsize=(10, 8))"
   ]
  },
  {
   "cell_type": "markdown",
   "metadata": {},
   "source": [
    "## Fitting Parameters of a Model\n",
    "Kinetics models frequently have unknown constants that need to be estimated. This process of estimation is called model fitting, or just fitting. Fitting involves running multiple simulations with different values of parameters to find values that result in a good match between simulated and measured species concentrations."
   ]
  },
  {
   "cell_type": "code",
   "execution_count": null,
   "metadata": {},
   "outputs": [],
   "source": [
    "ANTIMONY_MODEL = \"\"\" \n",
    "# Reactions   \n",
    "    J1: S1 -> S2; k1*S1\n",
    "    J2: S2 -> S3; k2*S2\n",
    "    J3: S3 -> S4; k3*S3\n",
    "    J4: S4 -> S5; k4*S4\n",
    "    J5: S5 -> S6; k5*S5;\n",
    "# Species initializations\n",
    "    S1 = 10;\n",
    "    S2 = 0;\n",
    "    S3 = 0;\n",
    "    S4 = 0;\n",
    "    S5 = 0;\n",
    "    S6 = 0;\n",
    "    k1 = 1;\n",
    "    k2 = 2;\n",
    "    k3 = 3;\n",
    "    k4 = 4;\n",
    "    k5 = 5;\n",
    "\"\"\""
   ]
  },
  {
   "cell_type": "markdown",
   "metadata": {},
   "source": [
    "This model has the parameters ``k1, k2, k3, k4, k5``, the kinetics constants for their respective reactions. In this case, we know the true value of the parameters, which are specified at the bottom of the model. This knowledge provides a way to explore the effectiveness of model fitting.\n",
    "\n",
    "This model is a linear pathway where mass moves from species ``S1`` to ``S6`` over time. The rate at which this happens depends on the kinetics constants.\n",
    "\n",
    "Let's see how well we can fit this model to the ``ts1`` data described in the first section."
   ]
  },
  {
   "cell_type": "code",
   "execution_count": null,
   "metadata": {},
   "outputs": [],
   "source": [
    "print(ts1)"
   ]
  },
  {
   "cell_type": "markdown",
   "metadata": {},
   "source": [
    "The fitting data has values for each of the six floating species. Model fitting works iteratively varying the values of the parameters, simulating the model with these parameters, and then evaluating how close the simulation is to the fitting data.\n",
    "\n",
    "So, to do a fit, we must specify:\n",
    "\n",
    "1. The model to fit\n",
    "1. The fitting data\n",
    "1. The parameters to estimate\n",
    "\n",
    "To elaborate on point (3), often models contain some parameters whose values are known and others that aren't.\n",
    "\n",
    "The class ``ModelFitter`` is used to do fitting. The constructor must specify all 3 items above. If parameters is None, then no fitting is done."
   ]
  },
  {
   "cell_type": "code",
   "execution_count": null,
   "metadata": {},
   "outputs": [],
   "source": [
    "# Run the model using the parameter values in the model. There is no fitting.\n",
    "base_fitter = ModelFitter(ANTIMONY_MODEL, ts1, None)"
   ]
  },
  {
   "cell_type": "markdown",
   "metadata": {},
   "source": [
    "To fit a model, we use the ``fitModel`` method. We can then see the optimized residual variance and the values of the model parameters."
   ]
  },
  {
   "cell_type": "code",
   "execution_count": null,
   "metadata": {},
   "outputs": [],
   "source": [
    "base_fitter.fitModel()"
   ]
  },
  {
   "cell_type": "code",
   "execution_count": null,
   "metadata": {},
   "outputs": [],
   "source": [
    "# The model without fitting any parameters\n",
    "ts_base = NamedTimeseries(named_array=base_fitter.roadrunner_model.simulate(0, 4, 30))\n",
    "plotter.plotTimeSingle(ts_base, num_row=2)"
   ]
  },
  {
   "cell_type": "markdown",
   "metadata": {},
   "source": [
    "This is a bit crowded for detailed comparisons. So, we make comparisons between each variable."
   ]
  },
  {
   "cell_type": "markdown",
   "metadata": {},
   "source": [
    "In our running example, the values of parameters in the original model are their true value. Ideally, we want to achieve a variance close to this. We create a new fitter object since we still want to have access to the unchanged model that we started with."
   ]
  },
  {
   "cell_type": "code",
   "execution_count": null,
   "metadata": {},
   "outputs": [],
   "source": [
    "parameter_names = [\"k%d\" % i for i in range(1, 6)]\n",
    "fitter = ModelFitter(ANTIMONY_MODEL, ts1, parameter_names)\n",
    "fitter.fitModel()\n",
    "print(\"residual variance of the fitted model: %3.2f\" % np.var(fitter.residuals_ts.flatten()))\n",
    "print(\"Values of fitted parameters: %s\" % str(fitter.getFittedParameters()))"
   ]
  },
  {
   "cell_type": "markdown",
   "metadata": {},
   "source": [
    "Now let's compare the fitted model with the data."
   ]
  },
  {
   "cell_type": "code",
   "execution_count": null,
   "metadata": {},
   "outputs": [],
   "source": [
    "fitted_model = fitter.roadrunner_model\n",
    "fitted_model.reset()\n",
    "fitted_ts = NamedTimeseries(named_array=fitted_model.simulate(ts1.start, ts1.end, len(ts1)))\n",
    "plotter.plotTimeMultiple(ts1, timeseries2=fitted_ts, marker1=\"o\")"
   ]
  },
  {
   "cell_type": "code",
   "execution_count": null,
   "metadata": {},
   "outputs": [],
   "source": [
    "plotter.plotTimeSingle(ts1, timeseries2=fitted_ts, num_row=2, num_col=3, figsize=(12, 10), marker1=\"o\")"
   ]
  },
  {
   "cell_type": "code",
   "execution_count": null,
   "metadata": {},
   "outputs": [],
   "source": [
    "# Plot pairs of values\n",
    "plotter.plotValuePairs(fitted_ts, pairs=[(\"S1\", \"S2\"), (\"S1\", \"S6\"), (\"S2\", \"S3\")], num_col=3)"
   ]
  },
  {
   "cell_type": "code",
   "execution_count": null,
   "metadata": {},
   "outputs": [],
   "source": [
    "fitter.plotFitAll(num_col=1, num_row=1, is_multiple=True)"
   ]
  },
  {
   "cell_type": "code",
   "execution_count": null,
   "metadata": {},
   "outputs": [],
   "source": [
    "fitter.plotFitAll(num_row=2, num_col=2, figsize=(12, 10))"
   ]
  }
 ],
 "metadata": {
  "kernelspec": {
   "display_name": "Python 3",
   "language": "python",
   "name": "python3"
  },
  "language_info": {
   "codemirror_mode": {
    "name": "ipython",
    "version": 3
   },
   "file_extension": ".py",
   "mimetype": "text/x-python",
   "name": "python",
   "nbconvert_exporter": "python",
   "pygments_lexer": "ipython3",
   "version": "3.6.4"
  }
 },
 "nbformat": 4,
 "nbformat_minor": 4
}
